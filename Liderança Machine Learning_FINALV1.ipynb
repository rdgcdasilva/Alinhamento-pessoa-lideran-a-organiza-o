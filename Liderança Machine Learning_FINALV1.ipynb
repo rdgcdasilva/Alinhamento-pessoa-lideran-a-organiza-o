{
 "cells": [
  {
   "cell_type": "code",
   "execution_count": 2,
   "metadata": {},
   "outputs": [],
   "source": [
    "import matplotlib.pyplot as plt\n",
    "import pandas as pd\n",
    "import numpy as np\n",
    "import seaborn as sns\n",
    "%matplotlib inline"
   ]
  },
  {
   "cell_type": "code",
   "execution_count": 3,
   "metadata": {},
   "outputs": [],
   "source": [
    "data = pd.read_excel('empregado.xlsx')"
   ]
  },
  {
   "cell_type": "markdown",
   "metadata": {},
   "source": [
    "# Preparação e tratamento dos dados"
   ]
  },
  {
   "cell_type": "code",
   "execution_count": 105,
   "metadata": {
    "scrolled": true
   },
   "outputs": [
    {
     "data": {
      "text/plain": [
       "performance\n",
       "Abaixo da média       1568\n",
       "Entre os melhores    27487\n",
       "Name: id_empregado, dtype: int64"
      ]
     },
     "execution_count": 105,
     "metadata": {},
     "output_type": "execute_result"
    }
   ],
   "source": [
    "# excluindo linhas com variáveis ausentes\n",
    "data2 = data.dropna(axis=0, how='any')\n",
    "data2.groupby('performance')['id_empregado'].count()"
   ]
  },
  {
   "cell_type": "code",
   "execution_count": 106,
   "metadata": {},
   "outputs": [],
   "source": [
    "# Realizando Análise de Componentes Principais para reduzir variáveis e criar uma variável chamada clima organizacional.\n",
    "\n",
    "from sklearn.preprocessing import StandardScaler\n",
    "from sklearn.decomposition import PCA\n",
    "clima= data2[['clim1', 'clim2','clim3','clim4','clim5','clim6','clim7','clim8','clim9','clim10','clim11','clim12','clim13','clim14','clim15','clim16','clim17','clim17','clim19','clim20','clim21','clim22','clim23','clim24','clim25','clim26','clim27','clim28','clim29','clim30','clim31','clim32','clim33','clim34','clim35','clim36','clim37','clim38','clim39','clim40','clim41','clim42','clim43','clim44','clim45','clim46','clim47','clim48','clim49','clim50','clim51','clim52','clim53','clim54','clim55','clim56']]\n",
    "scaler = StandardScaler()\n",
    "scaler.fit(clima)\n",
    "scaled_data = scaler.transform(clima)\n",
    "pca = PCA(n_components=1)\n",
    "pca.fit(scaled_data)\n",
    "clima_pca = pca.transform(scaled_data)\n",
    "clima_pca\n",
    "clima= pd.DataFrame(clima_pca, columns= ['clima'])\n"
   ]
  },
  {
   "cell_type": "code",
   "execution_count": 107,
   "metadata": {},
   "outputs": [],
   "source": [
    "#Tratando a variável idade\n",
    "idade= data2['idade']\n",
    "def fxidade(idade):\n",
    "     if idade >= 60:\n",
    "        return'60 anos ou mais'\n",
    "     elif idade >= 40:\n",
    "        return 'entre 40 e 59 anos'\n",
    "     elif idade >= 30:\n",
    "        return 'entre 30 e 39 anos'\n",
    "     else:\n",
    "        return 'entre 18 e 29 anos'\n",
    "fxidade= list(map(fxidade,idade))\n",
    "fxidade= pd.DataFrame(fxidade,columns= ['fxidade'])"
   ]
  },
  {
   "cell_type": "code",
   "execution_count": 108,
   "metadata": {},
   "outputs": [],
   "source": [
    "#Concatenando as variáveis tratadas e reduzidas à segunda versão do banco de dados\n",
    "\n",
    "data2=pd.concat([data2.reset_index(), fxidade.reset_index(), clima.reset_index()], axis=1)"
   ]
  },
  {
   "cell_type": "code",
   "execution_count": 109,
   "metadata": {},
   "outputs": [],
   "source": [
    "# Identificando variáveis previsoras e a classe que será prevista\n",
    "\n",
    "previsores= data2[['faixaempregado','setor','fxidade','excelentelugar','cargo','localtrabalho','tempoempresa','salariobruto', 'instrucao', 'deficiencia', 'raça', 'sexo', 'estado', 'fatorretencao', 'ambetico', 'avalprincexec', 'lideranca','retencao', 'clima']]\n",
    "classe= data2[['performance']]"
   ]
  },
  {
   "cell_type": "code",
   "execution_count": 110,
   "metadata": {},
   "outputs": [
    {
     "data": {
      "text/plain": [
       "<matplotlib.axes._subplots.AxesSubplot at 0x1cc228c4c88>"
      ]
     },
     "execution_count": 110,
     "metadata": {},
     "output_type": "execute_result"
    },
    {
     "data": {
      "image/png": "[encoded data removed]",
      "text/plain": [
       "<Figure size 432x288 with 1 Axes>"
      ]
     },
     "metadata": {
      "needs_background": "light"
     },
     "output_type": "display_data"
    }
   ],
   "source": [
    "#Identificando a distribuição e os outliers da variável clima organizacional\n",
    "\n",
    "import seaborn as sns\n",
    "%matplotlib inline\n",
    "sns.boxplot(x=\"performance\", y=\"clima\", data=data2,palette='rainbow')"
   ]
  },
  {
   "cell_type": "code",
   "execution_count": 111,
   "metadata": {},
   "outputs": [
    {
     "name": "stdout",
     "output_type": "stream",
     "text": [
      "Minimum:-4.23\n",
      "Mean:0.00\n",
      "Median:-2.00\n",
      "Mode:-4.23\n",
      "Maximum:29.16\n",
      "\n"
     ]
    }
   ],
   "source": [
    "def show_distribution(var_data):\n",
    "    from matplotlib import pyplot as plt\n",
    "\n",
    "    # Get statistics\n",
    "    min_val = var_data.min()\n",
    "    max_val = var_data.max()\n",
    "    mean_val = var_data.mean()\n",
    "    med_val = var_data.median()\n",
    "    mod_val = var_data.mode()[0]\n",
    "\n",
    "    print('Minimum:{:.2f}\\nMean:{:.2f}\\nMedian:{:.2f}\\nMode:{:.2f}\\nMaximum:{:.2f}\\n'.format(min_val,\n",
    "                                                                                            mean_val,\n",
    "                                                                                            med_val,\n",
    "                                                                                            mod_val,\n",
    "                                                                                            max_val))\n",
    "# Get the variable to examine\n",
    "col = data2['clima']\n",
    "# Call the function\n",
    "show_distribution(col)"
   ]
  },
  {
   "cell_type": "code",
   "execution_count": 112,
   "metadata": {},
   "outputs": [
    {
     "name": "stdout",
     "output_type": "stream",
     "text": [
      "Minimum:-4.23\n",
      "Mean:-1.82\n",
      "Median:-2.65\n",
      "Mode:-4.23\n",
      "Maximum:4.58\n",
      "\n"
     ]
    }
   ],
   "source": [
    "#Retirando os outliers da variável clima organizacional a partir do percentil 85.\n",
    "\n",
    "q85 = data2.clima.quantile(0.85)\n",
    "# Get the variable to examine\n",
    "col = data2[data2.clima<q85]['clima']\n",
    "# Call the function\n",
    "show_distribution(col)"
   ]
  },
  {
   "cell_type": "code",
   "execution_count": 113,
   "metadata": {},
   "outputs": [
    {
     "data": {
      "text/plain": [
       "<matplotlib.axes._subplots.AxesSubplot at 0x1cbd25f4608>"
      ]
     },
     "execution_count": 113,
     "metadata": {},
     "output_type": "execute_result"
    },
    {
     "data": {
      "image/png": "[encoded data removed]",
      "text/plain": [
       "<Figure size 432x288 with 1 Axes>"
      ]
     },
     "metadata": {
      "needs_background": "light"
     },
     "output_type": "display_data"
    }
   ],
   "source": [
    "# distribuição da variável clima organizacional sem outliers\n",
    "data2['clima']= col\n",
    "data2 = data2.dropna(axis=0, how='any')\n",
    "sns.boxplot(x=\"performance\", y=\"clima\", data=data2,palette='rainbow')"
   ]
  },
  {
   "cell_type": "code",
   "execution_count": 122,
   "metadata": {},
   "outputs": [
    {
     "name": "stderr",
     "output_type": "stream",
     "text": [
      "C:\\Users\\silva\\anaconda3\\lib\\site-packages\\sklearn\\utils\\validation.py:63: DataConversionWarning: A column-vector y was passed when a 1d array was expected. Please change the shape of y to (n_samples, ), for example using ravel().\n",
      "  return f(*args, **kwargs)\n"
     ]
    },
    {
     "name": "stdout",
     "output_type": "stream",
     "text": [
      "Training cases: 38481\n",
      "Test cases: 16493\n"
     ]
    }
   ],
   "source": [
    "# Transformando a variável preditora em binária (dummies)\n",
    "\n",
    "previsores= pd.get_dummies(previsores)\n",
    "\n",
    "# Transformando a variável classe em binária\n",
    "\n",
    "from sklearn.preprocessing import LabelEncoder\n",
    "labelencoder_classe = LabelEncoder()\n",
    "classe= labelencoder_classe.fit_transform(classe)\n",
    "classe=pd.DataFrame(classe)\n",
    "\n",
    "# Balanceamento da quantidade de registros das variáveis preditoras e classe\n",
    "\n",
    "from imblearn.over_sampling import SMOTE\n",
    "smt = SMOTE()\n",
    "previsores, classe= smt.fit_sample(previsores, classe)\n",
    "\n",
    "#Dividindo as amostras de treino e teste\n",
    "\n",
    "from sklearn.model_selection import train_test_split\n",
    "previsores_train, previsores_test, classe_train, classe_test = train_test_split(previsores, classe, test_size=0.30, \n",
    "                                                    random_state=101)\n",
    "print ('Training cases: %d\\nTest cases: %d' % (previsores_train.shape[0], previsores_test.shape[0]))\n"
   ]
  },
  {
   "cell_type": "markdown",
   "metadata": {},
   "source": [
    "# Treinamento do modelo - Random Forest"
   ]
  },
  {
   "cell_type": "code",
   "execution_count": 123,
   "metadata": {},
   "outputs": [
    {
     "name": "stderr",
     "output_type": "stream",
     "text": [
      "C:\\Users\\silva\\anaconda3\\lib\\site-packages\\ipykernel_launcher.py:3: DataConversionWarning: A column-vector y was passed when a 1d array was expected. Please change the shape of y to (n_samples,), for example using ravel().\n",
      "  This is separate from the ipykernel package so we can avoid doing imports until\n"
     ]
    },
    {
     "data": {
      "text/plain": [
       "RandomForestClassifier(n_estimators=5)"
      ]
     },
     "execution_count": 123,
     "metadata": {},
     "output_type": "execute_result"
    }
   ],
   "source": [
    "from sklearn.ensemble import RandomForestClassifier\n",
    "rf = RandomForestClassifier(n_estimators=5)\n",
    "rf.fit(previsores_train, classe_train)"
   ]
  },
  {
   "cell_type": "code",
   "execution_count": 125,
   "metadata": {},
   "outputs": [
    {
     "name": "stdout",
     "output_type": "stream",
     "text": [
      "Confusion Matrix:\n",
      " [[7847  369]\n",
      " [ 310 7967]] \n",
      "\n",
      "Accuracy: 0.9588310192202752\n",
      "Overall Precision: 0.9557341650671785\n",
      "Overall Recall: 0.9625468164794008\n",
      "AUC: 0.9867448793179773\n"
     ]
    },
    {
     "data": {
      "image/png": "[encoded data removed]",
      "text/plain": [
       "<Figure size 432x432 with 1 Axes>"
      ]
     },
     "metadata": {
      "needs_background": "light"
     },
     "output_type": "display_data"
    }
   ],
   "source": [
    "from sklearn.metrics import confusion_matrix, accuracy_score\n",
    "from sklearn.metrics import precision_score, recall_score\n",
    "from sklearn.metrics import roc_curve\n",
    "from sklearn.metrics import roc_auc_score\n",
    "\n",
    "# Obtendo previsões a partir da amostra de teste\n",
    "predictions = rf.predict(previsores_test)\n",
    "classe_scores = rf.predict_proba(previsores_test)\n",
    "\n",
    "# Obtendo os indicadores de performance do modelo\n",
    "\n",
    "cm = confusion_matrix(classe_test, predictions)\n",
    "print ('Confusion Matrix:\\n',cm, '\\n')\n",
    "print('Accuracy:', accuracy_score(classe_test, predictions))\n",
    "print(\"Overall Precision:\",precision_score(classe_test, predictions))\n",
    "print(\"Overall Recall:\",recall_score(classe_test, predictions))\n",
    "auc = roc_auc_score(classe_test,classe_scores[:,1])\n",
    "print('AUC: ' + str(auc))\n",
    "\n",
    "# Cálculo e plot da curva ROC\n",
    "\n",
    "fpr, tpr, thresholds = roc_curve(classe_test, classe_scores[:,1])\n",
    "fig = plt.figure(figsize=(6, 6))\n",
    "plt.plot([0, 1], [0, 1], 'k--')\n",
    "plt.plot(fpr, tpr)\n",
    "plt.xlabel('False Positive Rate')\n",
    "plt.ylabel('True Positive Rate')\n",
    "plt.title('ROC Curve')\n",
    "plt.show()"
   ]
  },
  {
   "cell_type": "code",
   "execution_count": 91,
   "metadata": {},
   "outputs": [
    {
     "data": {
      "text/html": [
       "<div>\n",
       "<style scoped>\n",
       "    .dataframe tbody tr th:only-of-type {\n",
       "        vertical-align: middle;\n",
       "    }\n",
       "\n",
       "    .dataframe tbody tr th {\n",
       "        vertical-align: top;\n",
       "    }\n",
       "\n",
       "    .dataframe thead th {\n",
       "        text-align: right;\n",
       "    }\n",
       "</style>\n",
       "<table border=\"1\" class=\"dataframe\">\n",
       "  <thead>\n",
       "    <tr style=\"text-align: right;\">\n",
       "      <th></th>\n",
       "      <th>importance</th>\n",
       "    </tr>\n",
       "  </thead>\n",
       "  <tbody>\n",
       "    <tr>\n",
       "      <th>lideranca_Inspirador</th>\n",
       "      <td>0.064028</td>\n",
       "    </tr>\n",
       "    <tr>\n",
       "      <th>clima</th>\n",
       "      <td>0.060843</td>\n",
       "    </tr>\n",
       "    <tr>\n",
       "      <th>fatorretencao_Oportunidades de Desenvolvimento - Valorização da carreira e das oportunidades de aprendizagem, crescimento e desenvolvimento observadas na empresa</th>\n",
       "      <td>0.036329</td>\n",
       "    </tr>\n",
       "    <tr>\n",
       "      <th>localtrabalho_Fábrica / Produção / Agrícola / Obra / Laboratório</th>\n",
       "      <td>0.031704</td>\n",
       "    </tr>\n",
       "    <tr>\n",
       "      <th>retencao_Gostaria de me aposentar nesta empresa</th>\n",
       "      <td>0.030506</td>\n",
       "    </tr>\n",
       "    <tr>\n",
       "      <th>lideranca_Democrático</th>\n",
       "      <td>0.026721</td>\n",
       "    </tr>\n",
       "    <tr>\n",
       "      <th>lideranca_Pessoas em primeiro lugar</th>\n",
       "      <td>0.025707</td>\n",
       "    </tr>\n",
       "    <tr>\n",
       "      <th>avalprincexec_Excelente</th>\n",
       "      <td>0.024650</td>\n",
       "    </tr>\n",
       "    <tr>\n",
       "      <th>excelentelugar_Ser reconhecido pela minha dedicação, por minhas novas ideias e perceber que meu esforço contribui para o sucesso da empresa</th>\n",
       "      <td>0.023208</td>\n",
       "    </tr>\n",
       "    <tr>\n",
       "      <th>fatorretencao_Satisfação com o Trabalho - Sentimento de realização profissional, sentir-se satisfeito com o trabalho que realiza</th>\n",
       "      <td>0.021506</td>\n",
       "    </tr>\n",
       "  </tbody>\n",
       "</table>\n",
       "</div>"
      ],
      "text/plain": [
       "                                                    importance\n",
       "lideranca_Inspirador                                  0.064028\n",
       "clima                                                 0.060843\n",
       "fatorretencao_Oportunidades de Desenvolvimento ...    0.036329\n",
       "localtrabalho_Fábrica / Produção / Agrícola / O...    0.031704\n",
       "retencao_Gostaria de me aposentar nesta empresa       0.030506\n",
       "lideranca_Democrático                                 0.026721\n",
       "lideranca_Pessoas em primeiro lugar                   0.025707\n",
       "avalprincexec_Excelente                               0.024650\n",
       "excelentelugar_Ser reconhecido pela minha dedic...    0.023208\n",
       "fatorretencao_Satisfação com o Trabalho - Senti...    0.021506"
      ]
     },
     "execution_count": 91,
     "metadata": {},
     "output_type": "execute_result"
    }
   ],
   "source": [
    "rf.feature_importances_\n",
    "\n",
    "# Criando um dataframe com as colunas e seus scores de importâncias:\n",
    "\n",
    "previsores_importances = pd.DataFrame(rf.feature_importances_,\n",
    "                                   index = previsores.columns,\n",
    "                                   columns=['importance']).sort_values('importance', ascending=False)\n",
    "\n",
    "# Idenfiticação das 10 principais variáveis preditoras \n",
    "previsores_importances.head(10)"
   ]
  },
  {
   "cell_type": "markdown",
   "metadata": {},
   "source": [
    "# Interpretação dos resultados por empregado"
   ]
  },
  {
   "cell_type": "code",
   "execution_count": 94,
   "metadata": {
    "scrolled": true
   },
   "outputs": [
    {
     "data": {
      "text/plain": [
       "cargo_Demais empregados                                                                                          1.0\n",
       "deficiencia_Não                                                                                                  1.0\n",
       "fxidade_entre 40 e 59 anos                                                                                       1.0\n",
       "avalprincexec_Excelente                                                                                          1.0\n",
       "tempoempresa_Até 06 meses de casa                                                                                1.0\n",
       "setor_Moveleiro                                                                                                  1.0\n",
       "raça_Branco                                                                                                      1.0\n",
       "localtrabalho_Fábrica / Produção / Agrícola / Obra / Laboratório                                                 1.0\n",
       "instrucao_ensino médio                                                                                           1.0\n",
       "fatorretencao_Remuneração e Benefícios - Valorização do salário, remuneração variável e benefícios que recebe    1.0\n",
       "salariobruto_De R$ 998,01 a R$ 1996,00                                                                           1.0\n",
       "lideranca_Pessoas em primeiro lugar                                                                              1.0\n",
       "estado_Rio Grande do Sul                                                                                         1.0\n",
       "faixaempregado_Menos de 1 mil empregados                                                                         1.0\n",
       "sexo_Homem                                                                                                       1.0\n",
       "excelentelugar_Concordar com os objetivos e valores da empresa e ter orgulho de trabalhar nela                   1.0\n",
       "retencao_Gostaria de me aposentar nesta empresa                                                                  1.0\n",
       "Name: 9860, dtype: float64"
      ]
     },
     "execution_count": 94,
     "metadata": {},
     "output_type": "execute_result"
    }
   ],
   "source": [
    "#Respostas de um empregado aleatório ao questionário\n",
    "\n",
    "respostas= previsores_test.iloc[1]\n",
    "respostas.sort_values(ascending= False).head(17)"
   ]
  },
  {
   "cell_type": "code",
   "execution_count": 102,
   "metadata": {},
   "outputs": [
    {
     "name": "stdout",
     "output_type": "stream",
     "text": [
      "previsão [[0. 1.]]\n",
      "ambetico [0.]\n",
      "clima [0.11283884]\n",
      "faixaempregado_Acima de 10 mil empregados [0.]\n",
      "faixaempregado_Mais de 1 mil empregados [0.]\n",
      "faixaempregado_Menos de 1 mil empregados [0.]\n",
      "setor_Agronegócio [-0.00498694]\n",
      "setor_Alimentos, bebidas e fumo [-0.00846163]\n",
      "setor_Atacadista [0.]\n",
      "setor_Automotivo [-0.00338655]\n",
      "setor_Bancário [0.]\n",
      "setor_Comércio Varejista [0.]\n",
      "setor_Consultoria e Auditoria [0.]\n",
      "setor_Cooperativa [-0.0007767]\n",
      "setor_Educação [0.]\n",
      "setor_Eletroeletrônico [0.]\n",
      "setor_Empresa de Benefícios [0.]\n",
      "setor_Energia [0.]\n",
      "setor_Engenharia e Construção [-0.00183451]\n",
      "setor_Farmacêutica [0.]\n",
      "setor_Higiene e Cosméticos [0.00091671]\n",
      "setor_Hospital [0.]\n",
      "setor_Indústrias Diversas [-0.00553086]\n",
      "setor_Indústrias de Embalagens [0.]\n",
      "setor_Materiais de Construção [0.]\n",
      "setor_Mineração, Metalurgia e Siderurgia [0.]\n",
      "setor_Moveleiro [0.]\n",
      "setor_Papel e Celulose [0.]\n",
      "setor_Química e Petroquímica [-0.00080729]\n",
      "setor_Saúde e Nutrição Animal [0.]\n",
      "setor_Serviços Automotivos [0.]\n",
      "setor_Serviços Diversos [0.]\n",
      "setor_Serviços Financeiros [0.]\n",
      "setor_Serviços Públicos [0.]\n",
      "setor_Serviços de Saúde [0.]\n",
      "setor_Tecnologia e Computação [0.]\n",
      "setor_Transporte e Logística [0.]\n",
      "setor_Têxtil [0.]\n",
      "fxidade_60 anos ou mais [0.]\n",
      "fxidade_entre 18 e 29 anos [0.]\n",
      "fxidade_entre 30 e 39 anos [0.]\n",
      "fxidade_entre 40 e 59 anos [0.09944444]\n",
      "excelentelugar_Admirar aquilo que a empresa faz para seus clientes, sociedade e comunidade [0.]\n",
      "excelentelugar_Concordar com os objetivos e valores da empresa e ter orgulho de trabalhar nela [0.]\n",
      "excelentelugar_Conseguir equilibrar o meu trabalho e a minha vida pessoal [-0.00063293]\n",
      "excelentelugar_Estar em um ambiente de boas relações com os colegas de trabalho [0.]\n",
      "excelentelugar_Nenhum dos motivos descritos acima [0.]\n",
      "excelentelugar_Perceber que estou aprendendo cada vez mais e que tenho oportunidade de crescer e de me desenvolver [-0.0096752]\n",
      "excelentelugar_Receber um salário de acordo com as minhas responsabilidades e um pacote de benefícios que atenda às minhas necessidades [0.]\n",
      "excelentelugar_Sentir-me satisfeito e motivado com o trabalho que faço na empresa [-0.00680752]\n",
      "excelentelugar_Ser reconhecido pela minha dedicação, por minhas novas ideias e perceber que meu esforço contribui para o sucesso da empresa [-0.00917634]\n",
      "excelentelugar_Ser tratado com justiça [0.]\n",
      "excelentelugar_Ter chefes que eu respeito, confio e que orientam sua equipe de trabalho [0.]\n",
      "excelentelugar_Ter estabilidade e segurança [0.]\n",
      "cargo_  [0.]\n",
      "cargo_Demais empregados [0.01977027]\n",
      "cargo_Líder [0.00681818]\n",
      "localtrabalho_Escritório / Corporativo / Administrativo [-0.01255814]\n",
      "localtrabalho_Fábrica / Produção / Agrícola / Obra / Laboratório [0.1161214]\n",
      "localtrabalho_Home office (trabalho em casa) [0.]\n",
      "localtrabalho_Loja / Atendimento ao consumidor / Agência / Call center [0.]\n",
      "localtrabalho_Serviços externos (fora da empresa) / No cliente [0.]\n",
      "tempoempresa_Acima de 20 anos [0.]\n",
      "tempoempresa_Até 06 meses de casa [0.]\n",
      "tempoempresa_De 06 meses a 1 ano incompleto [-0.00158337]\n",
      "tempoempresa_De 1 a 2 anos incompletos [0.]\n",
      "tempoempresa_De 10 a 20 anos incompletos [-0.00246087]\n",
      "tempoempresa_De 2 a 3 anos incompletos [0.]\n",
      "tempoempresa_De 3 a 4 anos incompletos [0.]\n",
      "tempoempresa_De 4 a 6 anos incompletos [0.00165453]\n",
      "tempoempresa_De 6 a 8 anos incompletos [-0.00086247]\n",
      "tempoempresa_De 8 a 10 anos incompletos [-0.00189932]\n",
      "salariobruto_Até R$ 998,00 [-0.00320413]\n",
      "salariobruto_De R$ 11976,01 a R$ 15968,00 [0.]\n",
      "salariobruto_De R$ 1996,01 a R$ 2994,00 [-0.03230525]\n",
      "salariobruto_De R$ 2994,01 a R$ 3992,00 [-0.00361461]\n",
      "salariobruto_De R$ 3992,01 a R$ 5988,00 [0.]\n",
      "salariobruto_De R$ 5988,01 a R$ 7984,00 [0.]\n",
      "salariobruto_De R$ 7984,01 a R$ 11976,00 [0.]\n",
      "salariobruto_De R$ 998,01 a R$ 1996,00 [0.0595507]\n",
      "salariobruto_Mais de R$ 15968,00 [0.]\n",
      "instrucao_ensino médio [0.05424145]\n",
      "instrucao_primeiro grau [0.]\n",
      "instrucao_pós-lato [0.]\n",
      "instrucao_pós-stricto [0.]\n",
      "instrucao_superior [0.]\n",
      "instrucao_superior curta duração [0.]\n",
      "instrucao_tecnólogo [0.]\n",
      "deficiencia_Não [0.00448159]\n",
      "deficiencia_Sim [0.]\n",
      "raça_Amarelo [-0.00130472]\n",
      "raça_Branco [0.02375098]\n",
      "raça_Negro [0.]\n",
      "raça_Pardo [-0.02451918]\n",
      "raça_Índio [0.]\n",
      "sexo_Homem [0.00864378]\n",
      "sexo_Mulher [-0.00031886]\n",
      "estado_Acre [0.]\n",
      "estado_Alagoas [0.]\n",
      "estado_Amapá [0.]\n",
      "estado_Amazonas [-0.00046761]\n",
      "estado_Bahia [-0.000631]\n",
      "estado_Ceará [0.]\n",
      "estado_Distrito Federal [0.]\n",
      "estado_Espirito Santo [0.]\n",
      "estado_Goiás [0.]\n",
      "estado_Maranhão [0.]\n",
      "estado_Mato Grosso [0.]\n",
      "estado_Mato Grosso do Sul [0.]\n",
      "estado_Minas Gerais [0.]\n",
      "estado_Paraná [-0.00590616]\n",
      "estado_Paraíba [0.]\n",
      "estado_Pará [0.]\n",
      "estado_Pernambuco [0.]\n",
      "estado_Piauí [0.]\n",
      "estado_Rio Grande do Norte [0.]\n",
      "estado_Rio Grande do Sul [0.]\n",
      "estado_Rio de Janeiro [0.00572335]\n",
      "estado_Rondônia [0.]\n",
      "estado_Roraima [0.]\n",
      "estado_Santa Catarina [0.]\n",
      "estado_Sergipe [0.]\n",
      "estado_São Paulo [-0.00450038]\n",
      "estado_Tocantins [0.]\n",
      "fatorretencao_Comprometimento Organizacional - Sentir-se comprometido com a empresa e ter sentimentos de lealdade e compromisso com seu trabalho [-0.00398526]\n",
      "fatorretencao_Esperança de Melhoria - Ter a esperança de melhorias no futuro na empresa e uma expectativa positiva quanto ao futuro do seu trabalho [0.]\n",
      "fatorretencao_Estabilidade e Segurança - Desejo de ter estabilidade no emprego, ter uma segurança financeira e garantia de sua vaga de trabalho [0.]\n",
      "fatorretencao_Falta de Alternativas - Falta de opção no mercado e necessidade de permanecer no trabalho atual [0.]\n",
      "fatorretencao_Flexibilidade no Trabalho - Valorizar a flexibilidade e liberdade de horário, ter autonomia no trabalho [0.00076454]\n",
      "fatorretencao_Influências não Relacionadas ao Trabalho - Manter as responsabilidades assumidas fora do trabalho, como a família, a qualidade de vida e honrar seus compromissos [0.]\n",
      "fatorretencao_Investimento - Estar próximo da aposentadoria e valorizar o tempo de casa [0.]\n",
      "fatorretencao_Justiça Organizacional - Perceber que se é respeitado na empresa e que todos agem com transparência, confiança e ética [-0.00054858]\n",
      "fatorretencao_Localização - Localização da empresa, proximidade entre o local de trabalho e a moradia [0.]\n",
      "fatorretencao_Oportunidades de Desenvolvimento - Valorização da carreira e das oportunidades de aprendizagem, crescimento e desenvolvimento observadas na empresa [-0.02865103]\n",
      "fatorretencao_Prestígio Organizacional - Sentimento de orgulho e credibilidade por trabalhar na empresa [-0.00118463]\n",
      "fatorretencao_Relacionamentos - Importância das amizades, das pessoas e do ambiente de trabalho na empresa [-0.00149115]\n",
      "fatorretencao_Remuneração e Benefícios - Valorização do salário, remuneração variável e benefícios que recebe [0.]\n",
      "fatorretencao_Satisfação com o Trabalho - Sentimento de realização profissional, sentir-se satisfeito com o trabalho que realiza [0.]\n",
      "avalprincexec_Boa [0.]\n",
      "avalprincexec_Excelente [0.05265769]\n",
      "avalprincexec_Muito boa [-0.01979328]\n",
      "avalprincexec_Razoável [0.]\n",
      "avalprincexec_Ruim [0.]\n",
      "lideranca_Alto desempenho [-0.00822075]\n",
      "lideranca_Democrático [-0.02027587]\n",
      "lideranca_Identifica pontos fortes e fracos [-0.03661045]\n",
      "lideranca_Inspirador [-0.07485453]\n",
      "lideranca_Pessoas em primeiro lugar [0.25229437]\n",
      "lideranca_autoritário [-0.00433089]\n",
      "retencao_Entre 1 e 3 anos [0.]\n",
      "retencao_Entre 3 e 5 anos [0.]\n",
      "retencao_Entre 5 e 10 anos [0.]\n",
      "retencao_Estou procurando outra empresa neste momento [0.]\n",
      "retencao_Gostaria de me aposentar nesta empresa [0.02804559]\n",
      "retencao_Mais de 10 anos [0.]\n",
      "retencao_Por menos de 1 ano [0.]\n"
     ]
    }
   ],
   "source": [
    "# Importâncias por varíavel preditora para um empregado aleatório da amostra de teste \n",
    "\n",
    "from treeinterpreter import treeinterpreter as ti, utils\n",
    "\n",
    "selected_rows = [1]\n",
    "selected_df = previsores_test.iloc[selected_rows,:].values\n",
    "prediction, bias, contributions = ti.predict(rf, selected_df)\n",
    "\n",
    "print('previsão', prediction)\n",
    "for c, feature in zip(contributions[0][0:158,1:], previsores.columns):\n",
    "    print (feature, c)"
   ]
  },
  {
   "cell_type": "code",
   "execution_count": 103,
   "metadata": {},
   "outputs": [
    {
     "data": {
      "text/plain": [
       "0    1\n",
       "Name: 9860, dtype: int64"
      ]
     },
     "execution_count": 103,
     "metadata": {},
     "output_type": "execute_result"
    }
   ],
   "source": [
    "# classe real do empregado 1\n",
    "\n",
    "classe= classe_test.iloc[1]\n",
    "classe"
   ]
  }
 ],
 "metadata": {
  "kernelspec": {
   "display_name": "Python 3",
   "language": "python",
   "name": "python3"
  },
  "language_info": {
   "codemirror_mode": {
    "name": "ipython",
    "version": 3
   },
   "file_extension": ".py",
   "mimetype": "text/x-python",
   "name": "python",
   "nbconvert_exporter": "python",
   "pygments_lexer": "ipython3",
   "version": "3.7.6"
  }
 },
 "nbformat": 4,
 "nbformat_minor": 4
}
